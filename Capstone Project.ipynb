{
    "nbformat_minor": 1, 
    "cells": [
        {
            "source": "### This notebook will be used for the Capstone Project.", 
            "cell_type": "markdown", 
            "metadata": {
                "collapsed": true
            }
        }, 
        {
            "source": "import pandas as pd\nimport numpy as np\n!pip install bs4\n!pip install lxml\nfrom bs4 import BeautifulSoup\nimport requests\n\nprint(\"Hello Capstone Project Course\")", 
            "cell_type": "code", 
            "execution_count": 2, 
            "outputs": [
                {
                    "output_type": "stream", 
                    "name": "stdout", 
                    "text": "Requirement already satisfied: bs4 in /opt/conda/envs/Python36/lib/python3.6/site-packages (0.0.1)\nRequirement already satisfied: beautifulsoup4 in /opt/conda/envs/Python36/lib/python3.6/site-packages (from bs4) (4.7.1)\nRequirement already satisfied: soupsieve>=1.2 in /opt/conda/envs/Python36/lib/python3.6/site-packages (from beautifulsoup4->bs4) (1.7.1)\nRequirement already satisfied: lxml in /opt/conda/envs/Python36/lib/python3.6/site-packages (4.3.1)\nHello Capstone Project Course\n"
                }
            ], 
            "metadata": {}
        }, 
        {
            "source": "# getting data from internet\nwikipedia_link=requests.get('https://en.wikipedia.org/wiki/List_of_postal_codes_of_Canada:_M').text\n\n# using beautiful soup to parse the HTML/XML.\nsoup = BeautifulSoup(wikipedia_link,'xml')\n#print(soup.prettify())", 
            "cell_type": "code", 
            "execution_count": 47, 
            "outputs": [], 
            "metadata": {}
        }, 
        {
            "source": "# extracting the raw table inside that webpage\ntable = soup.find('table')\n\nPostcode      = []\nBorough       = []\nNeighbourhood = []\n\n# extracting a clean form of the table\nfor tr_cell in table.find_all('tr'):\n    \n    counter = 1\n    Postcode_var      = -1\n    Borough_var       = -1\n    Neighbourhood_var = -1\n    \n    for td_cell in tr_cell.find_all('td'):\n        if counter == 1: \n            Postcode_var = td_cell.text\n        if counter == 2: \n            Borough_var = td_cell.text\n            tag_a_Borough = td_cell.find('a')           \n        if counter == 3: \n            Neighbourhood_var = str(td_cell.text).strip()\n            tag_a_Neighbourhood = td_cell.find('a')\n            \n        counter +=1\n        if (Postcode_var == 'Not assigned' or Borough_var == 'Not assigned' or Neighbourhood_var == 'Not assigned'):            \n            continue        \n                     \n    try:\n        if ((tag_a_Borough is None)):            \n            continue            \n            \n    except:        \n        pass\n    \n    if(Postcode_var == -1 or Borough_var == -1 or Neighbourhood_var == -1):        \n        continue                  \n        \n    Postcode.append(Postcode_var)\n    Borough.append(Borough_var)\n    Neighbourhood.append(Neighbourhood_var)", 
            "cell_type": "code", 
            "execution_count": 111, 
            "outputs": [], 
            "metadata": {}
        }, 
        {
            "source": "# Unique postcode\nunique_p = set(Postcode)\nprint('num of unique Postal codes:', len(unique_p))\nPostcode_u      = []\nBorough_u       = []\nNeighbourhood_u = []\n\n# Multi neighborhoods of one Postcode shown in one cell with comma. Not assigned Neighborhood assigned with the name of Borough \nfor postcode_unique_element in unique_p:\n    p_var = ''; b_var = ''; n_var = ''; \n    for postcode_idx, postcode_element in enumerate(Postcode):\n        if postcode_unique_element == postcode_element:\n            p_var = postcode_element;\n            b_var = Borough[postcode_idx]\n            if n_var == '': \n                n_var = Neighbourhood[postcode_idx]\n            else:\n                n_var = n_var + ', ' + Neighbourhood[postcode_idx]\n    Postcode_u.append(p_var)\n    Borough_u.append(b_var)\n    Neighbourhood_u.append(n_var)", 
            "cell_type": "code", 
            "execution_count": 112, 
            "outputs": [
                {
                    "output_type": "stream", 
                    "name": "stdout", 
                    "text": "num of unique Postal codes: 100\n"
                }
            ], 
            "metadata": {}
        }, 
        {
            "source": "toronto_dict = {'Postcode':Postcode_u, 'Borough':Borough_u, 'Neighbourhood':Neighbourhood_u}\ndf_toronto = pd.DataFrame.from_dict(toronto_dict)\ndf_toronto.to_csv('toronto_part1.csv')\ndf_toronto.head()", 
            "cell_type": "code", 
            "execution_count": 115, 
            "outputs": [
                {
                    "output_type": "execute_result", 
                    "metadata": {}, 
                    "data": {
                        "text/html": "<div>\n<style scoped>\n    .dataframe tbody tr th:only-of-type {\n        vertical-align: middle;\n    }\n\n    .dataframe tbody tr th {\n        vertical-align: top;\n    }\n\n    .dataframe thead th {\n        text-align: right;\n    }\n</style>\n<table border=\"1\" class=\"dataframe\">\n  <thead>\n    <tr style=\"text-align: right;\">\n      <th></th>\n      <th>Postcode</th>\n      <th>Borough</th>\n      <th>Neighbourhood</th>\n    </tr>\n  </thead>\n  <tbody>\n    <tr>\n      <th>0</th>\n      <td>M9P</td>\n      <td>Etobicoke</td>\n      <td>Westmount</td>\n    </tr>\n    <tr>\n      <th>1</th>\n      <td>M8V</td>\n      <td>Etobicoke</td>\n      <td>Humber Bay Shores, Mimico South, New Toronto</td>\n    </tr>\n    <tr>\n      <th>2</th>\n      <td>M1H</td>\n      <td>Scarborough</td>\n      <td>Cedarbrae</td>\n    </tr>\n    <tr>\n      <th>3</th>\n      <td>M5R</td>\n      <td>Central Toronto</td>\n      <td>The Annex, North Midtown, Yorkville</td>\n    </tr>\n    <tr>\n      <th>4</th>\n      <td>M1E</td>\n      <td>Scarborough</td>\n      <td>Guildwood, Morningside, West Hill</td>\n    </tr>\n  </tbody>\n</table>\n</div>", 
                        "text/plain": "  Postcode          Borough                                 Neighbourhood\n0      M9P        Etobicoke                                     Westmount\n1      M8V        Etobicoke  Humber Bay Shores, Mimico South, New Toronto\n2      M1H      Scarborough                                     Cedarbrae\n3      M5R  Central Toronto           The Annex, North Midtown, Yorkville\n4      M1E      Scarborough             Guildwood, Morningside, West Hill"
                    }, 
                    "execution_count": 115
                }
            ], 
            "metadata": {}
        }, 
        {
            "source": "df_toronto.shape", 
            "cell_type": "code", 
            "execution_count": 116, 
            "outputs": [
                {
                    "output_type": "execute_result", 
                    "metadata": {}, 
                    "data": {
                        "text/plain": "(100, 3)"
                    }, 
                    "execution_count": 116
                }
            ], 
            "metadata": {}
        }
    ], 
    "nbformat": 4, 
    "metadata": {
        "kernelspec": {
            "display_name": "Python 3.6", 
            "name": "python3", 
            "language": "python"
        }, 
        "language_info": {
            "mimetype": "text/x-python", 
            "nbconvert_exporter": "python", 
            "version": "3.6.8", 
            "name": "python", 
            "pygments_lexer": "ipython3", 
            "file_extension": ".py", 
            "codemirror_mode": {
                "version": 3, 
                "name": "ipython"
            }
        }
    }
}